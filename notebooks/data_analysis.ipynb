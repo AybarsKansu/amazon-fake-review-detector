{
 "cells": [
  {
   "cell_type": "code",
   "execution_count": null,
   "id": "f6f97513",
   "metadata": {},
   "outputs": [
    {
     "name": "stdout",
     "output_type": "stream",
     "text": [
      "Downloading from https://www.kaggle.com/api/v1/datasets/download/naveedhn/amazon-product-review-spam-and-non-spam?dataset_version_number=1...\n"
     ]
    },
    {
     "name": "stderr",
     "output_type": "stream",
     "text": [
      "100%|██████████| 5.11G/5.11G [07:57<00:00, 11.5MB/s]  "
     ]
    },
    {
     "name": "stdout",
     "output_type": "stream",
     "text": [
      "Extracting files...\n"
     ]
    },
    {
     "name": "stderr",
     "output_type": "stream",
     "text": [
      "\n"
     ]
    },
    {
     "name": "stdout",
     "output_type": "stream",
     "text": [
      "C:\\Users\\Aybars\\.cache\\kagglehub\\datasets\\naveedhn\\amazon-product-review-spam-and-non-spam\\versions\\1\n"
     ]
    }
   ],
   "source": [
    "import kagglehub\n",
    "base_path = kagglehub.dataset_download(\"naveedhn/amazon-product-review-spam-and-non-spam\")\n",
    "print(base_path)"
   ]
  },
  {
   "cell_type": "code",
   "execution_count": null,
   "id": "398622b0",
   "metadata": {},
   "outputs": [
    {
     "name": "stdout",
     "output_type": "stream",
     "text": [
      "For döngüsü içinde C:\\Users\\Aybars\\.cache\\kagglehub\\datasets\\naveedhn\\amazon-product-review-spam-and-non-spam\\versions\\1\\Cell_Phones_and_Accessories\\Cell_Phones_and_Accessories.json\n",
      "For döngüsü içinde C:\\Users\\Aybars\\.cache\\kagglehub\\datasets\\naveedhn\\amazon-product-review-spam-and-non-spam\\versions\\1\\Clothing_Shoes_and_Jewelry\\Clothing_Shoes_and_Jewelry.json\n",
      "For döngüsü içinde C:\\Users\\Aybars\\.cache\\kagglehub\\datasets\\naveedhn\\amazon-product-review-spam-and-non-spam\\versions\\1\\Electronics\\Electronics.json\n",
      "For döngüsü içinde C:\\Users\\Aybars\\.cache\\kagglehub\\datasets\\naveedhn\\amazon-product-review-spam-and-non-spam\\versions\\1\\Home_and_Kitchen\\Home_and_Kitchen.json\n",
      "For döngüsü içinde C:\\Users\\Aybars\\.cache\\kagglehub\\datasets\\naveedhn\\amazon-product-review-spam-and-non-spam\\versions\\1\\Sports_and_Outdoors\\Sports_and_Outdoors.json\n",
      "For döngüsü içinde C:\\Users\\Aybars\\.cache\\kagglehub\\datasets\\naveedhn\\amazon-product-review-spam-and-non-spam\\versions\\1\\Toys_and_Games\\Toys_and_Games.json\n",
      "\n",
      "🚀 Veri oluşturma işlemi tamamlandı!\n",
      "\n",
      "Oluşturulan son dosyanın bilgileri okunuyor:\n",
      "<class 'pandas.core.frame.DataFrame'>\n",
      "RangeIndex: 25263223 entries, 0 to 25263222\n",
      "Data columns (total 8 columns):\n",
      " #   Column          Dtype \n",
      "---  ------          ----- \n",
      " 0   reviewerID      object\n",
      " 1   reviewText      object\n",
      " 2   summary         object\n",
      " 3   overall         int64 \n",
      " 4   helpful         object\n",
      " 5   unixReviewTime  int64 \n",
      " 6   class           int64 \n",
      " 7   category        object\n",
      "dtypes: int64(3), object(5)\n",
      "memory usage: 1.5+ GB\n",
      "\n",
      "Toplam satır sayısı: 25263223\n",
      "\n",
      "Kategori dağılımı:\n",
      "category\n",
      "Electronics                    7574169\n",
      "Clothing_Shoes_and_Jewelry     5504331\n",
      "Home_and_Kitchen               3988482\n",
      "Cell_Phones_and_Accessories    3185845\n",
      "Sports_and_Outdoors            3013256\n",
      "Toys_and_Games                 1997140\n",
      "Name: count, dtype: int64\n"
     ]
    }
   ],
   "source": [
    "import pandas as pd\n",
    "import glob\n",
    "import os\n",
    "\n",
    "columns_to_keep = [\n",
    "    'reviewerID', \n",
    "    'reviewText', \n",
    "    'summary', \n",
    "    'overall', \n",
    "    'helpful', \n",
    "    'unixReviewTime',\n",
    "    'class'\n",
    "]\n",
    "\n",
    "json_files = glob.glob(os.path.join(base_path, \"*/*.json\"))\n",
    "\n",
    "chunk_size = 100000\n",
    "is_first_chunk = True\n",
    "\n",
    "output_path = \"C:/work environment/Projects/amazon-spam-review/data/raw/labeled_reviews.parquet\"\n",
    "\n",
    "for file in json_files:\n",
    "  print(f\"For döngüsü içinde {file}\")\n",
    "  try:\n",
    "    category_name = os.path.basename(os.path.dirname(file))\n",
    "\n",
    "    chunk_iterator = pd.read_json(file, lines=True, chunksize=chunk_size)\n",
    "\n",
    "    for chunk in chunk_iterator:\n",
    "      if \"class\" not in chunk.columns or chunk[\"class\"].isnull().all():\n",
    "        continue\n",
    "\n",
    "      labeled_chunk = chunk.dropna(subset=[\"class\"]).copy()\n",
    "\n",
    "      if not labeled_chunk.empty:\n",
    "          labeled_chunk[\"category\"] = category_name\n",
    "          final_columns = columns_to_keep + ['category']\n",
    "          existing_columns = [col for col in final_columns if col in labeled_chunk.columns]\n",
    "\n",
    "          final_chunk = labeled_chunk[existing_columns]\n",
    "\n",
    "          if is_first_chunk:\n",
    "            final_chunk.to_parquet(output_path, engine='fastparquet')\n",
    "            is_first_chunk = False\n",
    "          else:\n",
    "            final_chunk.to_parquet(output_path, engine='fastparquet', append=True)\n",
    "          \n",
    "\n",
    "  except Exception as e:\n",
    "    print(f\"Error at {file} -error: {e}\") \n",
    "\n",
    "\n",
    "print(\"\\n🚀 Veri oluşturma işlemi tamamlandı!\")\n",
    "\n",
    "try:\n",
    "    print(\"\\nOluşturulan son dosyanın bilgileri okunuyor:\")\n",
    "    final_df = pd.read_parquet(output_path)\n",
    "    final_df.info()\n",
    "    print(f\"\\nToplam satır sayısı: {len(final_df)}\")\n",
    "    print(\"\\nKategori dağılımı:\")\n",
    "    print(final_df['category'].value_counts())\n",
    "except Exception as e:\n",
    "    print(f\"Dosya okunurken bir hata oluştu: {e}\")"
   ]
  }
 ],
 "metadata": {
  "kernelspec": {
   "display_name": "base",
   "language": "python",
   "name": "python3"
  },
  "language_info": {
   "codemirror_mode": {
    "name": "ipython",
    "version": 3
   },
   "file_extension": ".py",
   "mimetype": "text/x-python",
   "name": "python",
   "nbconvert_exporter": "python",
   "pygments_lexer": "ipython3",
   "version": "3.13.5"
  }
 },
 "nbformat": 4,
 "nbformat_minor": 5
}
