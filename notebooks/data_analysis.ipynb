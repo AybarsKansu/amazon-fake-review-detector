{
 "cells": [
  {
   "cell_type": "code",
   "execution_count": 1,
   "id": "f6f97513",
   "metadata": {},
   "outputs": [
    {
     "name": "stdout",
     "output_type": "stream",
     "text": [
      "C:\\Users\\Aybars\\.cache\\kagglehub\\datasets\\naveedhn\\amazon-product-review-spam-and-non-spam\\versions\\1\n"
     ]
    }
   ],
   "source": [
    "import kagglehub\n",
    "base_path = kagglehub.dataset_download(\"naveedhn/amazon-product-review-spam-and-non-spam\")\n",
    "print(base_path)  "
   ]
  },
  {
   "cell_type": "code",
   "execution_count": null,
   "id": "398622b0",
   "metadata": {},
   "outputs": [
    {
     "name": "stdout",
     "output_type": "stream",
     "text": [
      "Mevcut 'C:/work environment/Projects/amazon-spam-review/data/raw/labeled_reviews.parquet' dosyası siliniyor...\n"
     ]
    },
    {
     "ename": "PermissionError",
     "evalue": "[WinError 32] Dosya başka bir işlem tarafından kullanıldığından bu işlem dosyaya erişemiyor: 'C:/work environment/Projects/amazon-spam-review/data/raw/labeled_reviews.parquet'",
     "output_type": "error",
     "traceback": [
      "\u001b[1;31m---------------------------------------------------------------------------\u001b[0m",
      "\u001b[1;31mPermissionError\u001b[0m                           Traceback (most recent call last)",
      "Cell \u001b[1;32mIn[4], line 24\u001b[0m\n\u001b[0;32m     22\u001b[0m \u001b[38;5;28;01mif\u001b[39;00m os\u001b[38;5;241m.\u001b[39mpath\u001b[38;5;241m.\u001b[39mexists(output_path):\n\u001b[0;32m     23\u001b[0m     \u001b[38;5;28mprint\u001b[39m(\u001b[38;5;124mf\u001b[39m\u001b[38;5;124m\"\u001b[39m\u001b[38;5;124mMevcut \u001b[39m\u001b[38;5;124m'\u001b[39m\u001b[38;5;132;01m{\u001b[39;00moutput_path\u001b[38;5;132;01m}\u001b[39;00m\u001b[38;5;124m'\u001b[39m\u001b[38;5;124m dosyası siliniyor...\u001b[39m\u001b[38;5;124m\"\u001b[39m)\n\u001b[1;32m---> 24\u001b[0m     os\u001b[38;5;241m.\u001b[39mremove(output_path)\n\u001b[0;32m     26\u001b[0m \u001b[38;5;28;01mfor\u001b[39;00m file \u001b[38;5;129;01min\u001b[39;00m json_files:\n\u001b[0;32m     27\u001b[0m   \u001b[38;5;28mprint\u001b[39m(\u001b[38;5;124mf\u001b[39m\u001b[38;5;124m\"\u001b[39m\u001b[38;5;124mFor döngüsü içinde \u001b[39m\u001b[38;5;132;01m{\u001b[39;00mfile\u001b[38;5;132;01m}\u001b[39;00m\u001b[38;5;124m\"\u001b[39m)\n",
      "\u001b[1;31mPermissionError\u001b[0m: [WinError 32] Dosya başka bir işlem tarafından kullanıldığından bu işlem dosyaya erişemiyor: 'C:/work environment/Projects/amazon-spam-review/data/raw/labeled_reviews.parquet'"
     ]
    }
   ],
   "source": [
    "import pandas as pd\n",
    "import glob\n",
    "import os\n",
    "import fastparquet\n",
    "\n",
    "columns_to_keep = [\n",
    "    'reviewerID', \n",
    "    'reviewText', \n",
    "    'summary', \n",
    "    'overall', \n",
    "    'helpful', \n",
    "    'unixReviewTime',\n",
    "    'class'\n",
    "]\n",
    "\n",
    "json_files = glob.glob(os.path.join(base_path, \"*/*.json\"))\n",
    "\n",
    "chunk_size = 100000\n",
    "is_first_chunk = True\n",
    "\n",
    "output_path = \"C:/work environment/Projects/amazon-spam-review/data/raw/labeled_reviews.parquet\"\n",
    "# if os.path.exists(output_path):\n",
    "#     print(f\"Mevcut '{output_path}' dosyası siliniyor...\")\n",
    "#     os.remove(output_path)\n",
    "\n",
    "for file in json_files:\n",
    "  print(f\"For döngüsü içinde {file}\")\n",
    "  try:\n",
    "    category_name = os.path.basename(os.path.dirname(file))\n",
    "\n",
    "    chunk_iterator = pd.read_json(file, lines=True, chunksize=chunk_size)\n",
    "\n",
    "    for chunk in chunk_iterator:\n",
    "      if \"class\" not in chunk.columns or chunk[\"class\"].isnull().all():\n",
    "        continue\n",
    "\n",
    "      labeled_chunk = chunk.dropna(subset=[\"class\"]).copy()\n",
    "\n",
    "      if not labeled_chunk.empty:\n",
    "          labeled_chunk[\"category\"] = category_name\n",
    "          final_columns = columns_to_keep + ['category']\n",
    "          existing_columns = [col for col in final_columns if col in labeled_chunk.columns]\n",
    "\n",
    "          final_chunk = labeled_chunk[existing_columns]\n",
    "\n",
    "          if is_first_chunk:\n",
    "            final_chunk.to_parquet(output_path, engine='fastparquet')\n",
    "            is_first_chunk = False\n",
    "          else:\n",
    "            final_chunk.to_parquet(output_path, engine='fastparquet', append=True)\n",
    "          \n",
    "\n",
    "  except Exception as e:\n",
    "    print(f\"Error at {file} -error: {e}\") \n",
    "\n",
    "\n",
    "print(\"\\n🚀 Veri oluşturma işlemi tamamlandı!\")\n",
    "\n",
    "try:\n",
    "    print(\"\\nOluşturulan son dosyanın bilgileri okunuyor:\")\n",
    "    final_df = pd.read_parquet(output_path)\n",
    "    final_df.info()\n",
    "    print(f\"\\nToplam satır sayısı: {len(final_df)}\")\n",
    "    print(\"\\nKategori dağılımı:\")\n",
    "    print(final_df['category'].value_counts())\n",
    "except Exception as e:\n",
    "    print(f\"Dosya okunurken bir hata oluştu: {e}\")"
   ]
  }
 ],
 "metadata": {
  "kernelspec": {
   "display_name": "base",
   "language": "python",
   "name": "python3"
  },
  "language_info": {
   "codemirror_mode": {
    "name": "ipython",
    "version": 3
   },
   "file_extension": ".py",
   "mimetype": "text/x-python",
   "name": "python",
   "nbconvert_exporter": "python",
   "pygments_lexer": "ipython3",
   "version": "3.13.5"
  }
 },
 "nbformat": 4,
 "nbformat_minor": 5
}
