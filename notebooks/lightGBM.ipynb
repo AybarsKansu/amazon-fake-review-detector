{
 "cells": [
  {
   "cell_type": "code",
   "execution_count": 1,
   "id": "e85acd55",
   "metadata": {},
   "outputs": [],
   "source": [
    "import pandas as pd\n",
    "import numpy as np\n",
    "import os\n",
    "import joblib\n",
    "import time\n",
    "import lightgbm as lgb\n",
    "\n",
    "from sklearn.model_selection import train_test_split, GridSearchCV\n",
    "from sklearn.feature_extraction.text import TfidfVectorizer\n",
    "from sklearn.compose import ColumnTransformer\n",
    "from sklearn.impute import SimpleImputer\n",
    "from sklearn.metrics import classification_report\n",
    "\n",
    "from imblearn.pipeline import Pipeline\n",
    "from imblearn.under_sampling import RandomUnderSampler"
   ]
  },
  {
   "cell_type": "code",
   "execution_count": null,
   "id": "25fa5325",
   "metadata": {},
   "outputs": [],
   "source": [
    "CATEGORY_NAME = 'Toys_and_Games'\n",
    "TEST_SIZE = 0.20\n",
    "RANDOM_STATE = 42\n",
    "CV_FOLDS = 3\n",
    "N_JOBS = 4"
   ]
  },
  {
   "cell_type": "code",
   "execution_count": null,
   "id": "5d04f99b",
   "metadata": {},
   "outputs": [],
   "source": [
    "base_path = os.path.dirname(os.getcwd())\n",
    "data_dir = os.path.join(base_path, \"data\", \"processed\", CATEGORY_NAME)\n",
    "data_path = os.path.join(data_dir, f\"{CATEGORY_NAME.lower()}.parquet\")"
   ]
  },
  {
   "cell_type": "code",
   "execution_count": null,
   "id": "3c948f7b",
   "metadata": {},
   "outputs": [],
   "source": [
    "data = pd.read_parquet(data_path)\n",
    "X = data.drop(\"class\", axis=1)\n",
    "y = data[\"class\"]"
   ]
  },
  {
   "cell_type": "code",
   "execution_count": null,
   "id": "9abbf498",
   "metadata": {},
   "outputs": [],
   "source": [
    "X_train, X_test, y_train, y_test = train_test_split(\n",
    "    X, y, test_size=TEST_SIZE, random_state=RANDOM_STATE, stratify=y\n",
    ")"
   ]
  },
  {
   "cell_type": "code",
   "execution_count": null,
   "id": "bd7a35df",
   "metadata": {},
   "outputs": [],
   "source": [
    "numeric_transformer = Pipeline(steps=[('imputer', SimpleImputer(strategy='constant', fill_value=0))])\n",
    "preprocessor = ColumnTransformer(transformers=[\n",
    "    ('text', TfidfVectorizer(), 'cleaned_text'),\n",
    "    ('numeric', numeric_transformer, ['overall', 'helpfulness_ratio'])\n",
    "])"
   ]
  },
  {
   "cell_type": "code",
   "execution_count": null,
   "id": "2ce93cc6",
   "metadata": {},
   "outputs": [],
   "source": [
    "pipeline_lgbm = Pipeline([\n",
    "    ('preprocessor', preprocessor),\n",
    "    ('sampler', RandomUnderSampler(random_state=RANDOM_STATE)),\n",
    "    ('model', lgb.LGBMClassifier(random_state=RANDOM_STATE))\n",
    "])"
   ]
  },
  {
   "cell_type": "code",
   "execution_count": null,
   "id": "ccf325e6",
   "metadata": {},
   "outputs": [],
   "source": [
    "param_grid_lgbm = {\n",
    "    'preprocessor__text__max_features': [15000], # Önceki deneyden en iyi sonucu aldığımız değer\n",
    "    'model__n_estimators': [100, 200], # Ağaç sayısı\n",
    "    'model__learning_rate': [0.1, 0.05], # Öğrenme oranı\n",
    "    'model__num_leaves': [31, 50] # Her ağacın karmaşıklığı\n",
    "}"
   ]
  },
  {
   "cell_type": "code",
   "execution_count": null,
   "id": "21f03e31",
   "metadata": {},
   "outputs": [],
   "source": [
    "grid_search_lgbm = GridSearchCV(pipeline_lgbm, param_grid_lgbm, cv=CV_FOLDS, scoring='f1_weighted', n_jobs=N_JOBS, verbose=2)\n",
    "print(f\"LightGBM için GridSearchCV başlıyor... (Bu işlem Naive Bayes'ten daha uzun sürecektir)\")\n",
    "start_time = time.time()\n",
    "grid_search_lgbm.fit(X_train, y_train)\n",
    "end_time = time.time()\n",
    "duration_minutes = (end_time - start_time) / 60"
   ]
  },
  {
   "cell_type": "code",
   "execution_count": null,
   "id": "566836d8",
   "metadata": {},
   "outputs": [],
   "source": [
    "print(\"\\n\" + \"=\"*50)\n",
    "print(\"LGBM HİPERPARAMETRE OPTİMİZASYONU SONUÇLARI\")\n",
    "print(\"=\"*50)\n",
    "print(f\"Toplam Süre: {duration_minutes:.2f} dakika\")\n",
    "print(f\"En iyi F1 Skoru (Çapraz Doğrulama ile): {grid_search_lgbm.best_score_:.4f}\")\n",
    "print(\"Bulunan En İyi Parametreler:\")\n",
    "print(grid_search_lgbm.best_params_)\n",
    "print(\"-\" * 50)\n",
    "best_lgbm_model = grid_search_lgbm.best_estimator_"
   ]
  },
  {
   "cell_type": "code",
   "execution_count": null,
   "id": "4d5b446f",
   "metadata": {},
   "outputs": [],
   "source": [
    "results_file = os.path.join(base_path, \"reports\", \"model_results_log.csv\")\n",
    "report = classification_report(y_test, best_lgbm_model.predict(X_test), output_dict=True)\n",
    "result_data = {\n",
    "    'category': f\"{CATEGORY_NAME}_LGBM\", # Model adını belirtmek için\n",
    "    'best_cv_f1_score': grid_search_lgbm.best_score_,\n",
    "    'test_accuracy': report['accuracy'],\n",
    "    'test_f1_real_review': report['0']['f1-score'],\n",
    "    'test_precision_real_review': report['0']['precision'],\n",
    "    # ... (diğer metrikler)\n",
    "    'best_params': str(grid_search_lgbm.best_params_),\n",
    "    'training_time_minutes': duration_minutes\n",
    "}\n",
    "temp_df = pd.DataFrame([result_data])\n",
    "header = not os.path.exists(results_file)\n",
    "temp_df.to_csv(results_file, mode='a', header=header, index=False)\n",
    "print(f\"LGBM sonuçları '{results_file}' dosyasına eklendi.\")"
   ]
  },
  {
   "cell_type": "code",
   "execution_count": null,
   "id": "5ffeab43",
   "metadata": {},
   "outputs": [],
   "source": [
    "model_dir = os.path.join(base_path, \"models\", CATEGORY_NAME)\n",
    "os.makedirs(model_dir, exist_ok=True)\n",
    "model_filename = f\"lightgbm_{CATEGORY_NAME.lower()}.joblib\"\n",
    "model_path = os.path.join(model_dir, model_filename)\n",
    "joblib.dump(best_lgbm_model, model_path)\n",
    "print(f\"Eğitilmiş LightGBM modeli '{model_path}' olarak kaydedildi.\")"
   ]
  }
 ],
 "metadata": {
  "kernelspec": {
   "display_name": "base",
   "language": "python",
   "name": "python3"
  },
  "language_info": {
   "codemirror_mode": {
    "name": "ipython",
    "version": 3
   },
   "file_extension": ".py",
   "mimetype": "text/x-python",
   "name": "python",
   "nbconvert_exporter": "python",
   "pygments_lexer": "ipython3",
   "version": "3.13.5"
  }
 },
 "nbformat": 4,
 "nbformat_minor": 5
}
