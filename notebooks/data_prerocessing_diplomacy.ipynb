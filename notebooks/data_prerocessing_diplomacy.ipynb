{
 "cells": [
  {
   "cell_type": "code",
   "execution_count": 1,
   "id": "418ab344",
   "metadata": {},
   "outputs": [],
   "source": [
    "import pandas as pd\n",
    "import numpy as np\n",
    "import os\n",
    "import re\n",
    "import nltk\n",
    "from nltk.corpus import stopwords\n",
    "from nltk.stem import WordNetLemmatizer\n",
    "import time"
   ]
  },
  {
   "cell_type": "code",
   "execution_count": 2,
   "id": "7c90330a",
   "metadata": {},
   "outputs": [],
   "source": [
    "try:\n",
    "    stop_words = set(stopwords.words(\"english\"))\n",
    "except LookupError:\n",
    "    print(\"NLTK 'stopwords' ve 'wordnet' paketleri indiriliyor...\")\n",
    "    nltk.download(\"stopwords\", quiet=True)\n",
    "    nltk.download(\"wordnet\", quiet=True)\n",
    "    nltk.download('omw-1.4', quiet=True)\n",
    "    stop_words = set(stopwords.words(\"english\"))"
   ]
  },
  {
   "cell_type": "code",
   "execution_count": null,
   "id": "ac8f4191",
   "metadata": {},
   "outputs": [],
   "source": [
    "lemmatizer = WordNetLemmatizer()\n",
    "\n",
    "def clean_text(text):\n",
    "    if not isinstance(text, str):\n",
    "        return \"\"\n",
    "    text = text.lower()\n",
    "    text = re.sub(r'[^a-zA-Z\\s]', '', text)\n",
    "    tokens = text.split()\n",
    "    tokens = [lemmatizer.lemmatize(word) for word in tokens if word not in stop_words]\n",
    "    return \" \".join(tokens)\n",
    "\n",
    "def flatten_jsonl_data(file_path):\n",
    "    print(f\"{os.path.basename(file_path)} dosyası işleniyor\")\n",
    "\n",
    "    df_raw = pd.read_json(file_path, lines=True)\n",
    "\n",
    "    all_messages = []\n",
    "\n",
    "    for index, row in df_raw.iterarrows():\n",
    "        for i in range(len(row[\"message\"])):\n",
    "            message_data = {\n",
    "                'game_id': row['game_id'],\n",
    "                'speaker': row['speakers'][i],\n",
    "                'receiver': row['receivers'][i],\n",
    "                'message_text': row['messages'][i],\n",
    "                'sender_intention': row['sender_labels'][i],\n",
    "                'game_score': row['game_score'][i],\n",
    "                'game_score_delta': row['game_score_delta'][i],\n",
    "                'year': row['years'][i],\n",
    "                'season': row['seasons'][i],\n",
    "                # Makaledeki orijinal ayrımı korumak için bu bilgiyi de ekleyelim\n",
    "                'original_fold': row.get('acl2020_fold', os.path.basename(file_path).split('.')[0])\n",
    "            }\n",
    "            all_messages.append(message_data)\n",
    "    return pd.DataFrame(all_messages)\n",
    "            "
   ]
  }
 ],
 "metadata": {
  "kernelspec": {
   "display_name": "base",
   "language": "python",
   "name": "python3"
  },
  "language_info": {
   "codemirror_mode": {
    "name": "ipython",
    "version": 3
   },
   "file_extension": ".py",
   "mimetype": "text/x-python",
   "name": "python",
   "nbconvert_exporter": "python",
   "pygments_lexer": "ipython3",
   "version": "3.13.5"
  }
 },
 "nbformat": 4,
 "nbformat_minor": 5
}
