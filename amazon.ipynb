{
 "cells": [
  {
   "cell_type": "code",
   "execution_count": 4,
   "id": "df44b6e9-4154-405d-8242-d1d8fde6e05e",
   "metadata": {},
   "outputs": [
    {
     "name": "stdout",
     "output_type": "stream",
     "text": [
      "Collecting kagglehub\n",
      "  Downloading kagglehub-0.3.13-py3-none-any.whl.metadata (38 kB)\n",
      "Requirement already satisfied: packaging in c:\\users\\aybars\\anaconda3\\lib\\site-packages (from kagglehub) (24.2)\n",
      "Requirement already satisfied: pyyaml in c:\\users\\aybars\\anaconda3\\lib\\site-packages (from kagglehub) (6.0.2)\n",
      "Requirement already satisfied: requests in c:\\users\\aybars\\anaconda3\\lib\\site-packages (from kagglehub) (2.32.3)\n",
      "Requirement already satisfied: tqdm in c:\\users\\aybars\\anaconda3\\lib\\site-packages (from kagglehub) (4.67.1)\n",
      "Requirement already satisfied: charset-normalizer<4,>=2 in c:\\users\\aybars\\anaconda3\\lib\\site-packages (from requests->kagglehub) (3.3.2)\n",
      "Requirement already satisfied: idna<4,>=2.5 in c:\\users\\aybars\\anaconda3\\lib\\site-packages (from requests->kagglehub) (3.7)\n",
      "Requirement already satisfied: urllib3<3,>=1.21.1 in c:\\users\\aybars\\anaconda3\\lib\\site-packages (from requests->kagglehub) (2.3.0)\n",
      "Requirement already satisfied: certifi>=2017.4.17 in c:\\users\\aybars\\anaconda3\\lib\\site-packages (from requests->kagglehub) (2025.4.26)\n",
      "Requirement already satisfied: colorama in c:\\users\\aybars\\anaconda3\\lib\\site-packages (from tqdm->kagglehub) (0.4.6)\n",
      "Downloading kagglehub-0.3.13-py3-none-any.whl (68 kB)\n",
      "Installing collected packages: kagglehub\n",
      "Successfully installed kagglehub-0.3.13\n"
     ]
    }
   ],
   "source": []
  },
  {
   "cell_type": "code",
   "execution_count": 13,
   "id": "fd4479a2-21f7-4d6a-ab7b-0b6147d72f57",
   "metadata": {},
   "outputs": [
    {
     "name": "stdout",
     "output_type": "stream",
     "text": [
      "C:\\Users\\Aybars\\.cache\\kagglehub\\datasets\\naveedhn\\amazon-product-review-spam-and-non-spam\\versions\\1\n"
     ]
    }
   ],
   "source": [
    "import kagglehub\n",
    "base_path = kagglehub.dataset_download(\"naveedhn/amazon-product-review-spam-and-non-spam\")\n",
    "print(base_path)"
   ]
  },
  {
   "cell_type": "code",
   "execution_count": null,
   "id": "c74a697d-f5f8-4623-9499-5dd7fc741d14",
   "metadata": {},
   "outputs": [],
   "source": []
  },
  {
   "cell_type": "code",
   "execution_count": 19,
   "id": "294a72c3-f251-4467-af62-b72f572baa04",
   "metadata": {},
   "outputs": [
    {
     "name": "stdout",
     "output_type": "stream",
     "text": [
      "C:\\Users\\Aybars\\.cache\\kagglehub\\datasets\\naveedhn\\amazon-product-review-spam-and-non-spam\\versions\\1\\part\\part.json\n",
      "\n",
      "JSON Verisi Başarıyla Yüklendi:\n",
      "                                    _id      reviewerID        asin  \\\n",
      "0  {'$oid': '5a421d732bfbb88f180e24d2'}  A3ITLRYWLKJP5B  B000809PCG   \n",
      "1  {'$oid': '5a421d732bfbb88f180e24d3'}   AA65S7IF7V9GU  B004Y6F9KW   \n",
      "2  {'$oid': '5a421d732bfbb88f180e24d4'}  A3EBF7VUVF09GW  B0041RR5X8   \n",
      "3  {'$oid': '5a421d732bfbb88f180e24d5'}  A14YSDP7TH705X  B00066D6KO   \n",
      "4  {'$oid': '5a421d732bfbb88f180e24d6'}  A2VNHQNN1T3KKN  B0057MGKO6   \n",
      "\n",
      "                    reviewerName     helpful  \\\n",
      "0                          Barry  [1.0, 2.0]   \n",
      "1                        J Ayles  [0.0, 0.0]   \n",
      "2  Helene M. Jolley \"Shopaholic\"  [0.0, 0.0]   \n",
      "3                   amazonfan111  [0.0, 0.0]   \n",
      "4                         sherri  [0.0, 0.0]   \n",
      "\n",
      "                                          reviewText  overall  \\\n",
      "0  it's ok, but not great fun.  maybe it just mak...        3   \n",
      "1  I love this Air-soft rifle. I love the scope i...        5   \n",
      "2  Bought this for my new bathroom and though it ...        3   \n",
      "3  I guess the description of \"4 lbs of force nee...        3   \n",
      "4  Only receive 5 of the 10? What's up with that?...        1   \n",
      "\n",
      "                                             summary  unixReviewTime  \\\n",
      "0                  Not the first game I reach for...      1357689600   \n",
      "1                                               Cool      1314230400   \n",
      "2                             Flimsy but serviceable      1341705600   \n",
      "3                       \"Medium weight\" = very light      1377302400   \n",
      "4  Only received 5 of the 10! What's up with that...      1390867200   \n",
      "\n",
      "    reviewTime             category  \\\n",
      "0   01 9, 2013       Toys_and_Games   \n",
      "1  08 25, 2011  Sports_and_Outdoors   \n",
      "2   07 8, 2012     Home_and_Kitchen   \n",
      "3  08 24, 2013  Sports_and_Outdoors   \n",
      "4  01 28, 2014       Toys_and_Games   \n",
      "\n",
      "                            BehaviouralFeatureResult  label  \n",
      "0  {'CS': 0.5259506810000001, 'MNR': 0.0, 'RB': 0...    0.0  \n",
      "1  {'CS': 0.0, 'MNR': 0.0, 'RB': 0.0, 'RC': 0.0, ...    0.0  \n",
      "2  {'CS': 0.639148171, 'MNR': 0.0, 'RB': 0.0, 'RC...    0.0  \n",
      "3  {'CS': 0.360997436, 'MNR': 1.0, 'RB': 1.0, 'RC...    0.0  \n",
      "4  {'CS': 0.0, 'MNR': 0.0, 'RB': 0.0, 'RC': 0.0, ...    0.0  \n"
     ]
    }
   ],
   "source": [
    "import pandas as pd\n",
    "import os\n",
    "\n",
    "path = os.path.join(base_path, \"part\", \"part.json\")\n",
    "print(path)\n",
    "\n",
    "try:\n",
    "    data = pd.read_json(path, lines=True)\n",
    "    \n",
    "    print(\"\\nJSON Verisi Başarıyla Yüklendi:\")\n",
    "    print(data.head())\n",
    "    \n",
    "except ValueError as e:\n",
    "    # Eğer bu hata alınırsa, dosya 'lines=True' formatında değil demektir.\n",
    "    print(f\"\\nHATA: lines=True ile okunamadı. İkinci Senaryoyu deniyoruz. Hata: {e}\")\n",
    "    # Hemen Senaryo 2'ye geçin."
   ]
  },
  {
   "cell_type": "code",
   "execution_count": null,
   "id": "83a4f314-27f5-4fdf-9df8-a0417a6fc1e2",
   "metadata": {},
   "outputs": [],
   "source": []
  },
  {
   "cell_type": "code",
   "execution_count": null,
   "id": "bee59ffc-eb8f-4c1b-ae14-1401aa496224",
   "metadata": {},
   "outputs": [],
   "source": []
  },
  {
   "cell_type": "code",
   "execution_count": null,
   "id": "e0492ef8-1a7d-43fb-bc39-64377a8d4da4",
   "metadata": {},
   "outputs": [],
   "source": []
  },
  {
   "cell_type": "code",
   "execution_count": null,
   "id": "6449b900-3283-454a-94f9-8f3f59c1b715",
   "metadata": {},
   "outputs": [],
   "source": []
  },
  {
   "cell_type": "code",
   "execution_count": null,
   "id": "d91e9fca-2426-471c-86a9-c2da5187dfaa",
   "metadata": {},
   "outputs": [],
   "source": []
  },
  {
   "cell_type": "code",
   "execution_count": null,
   "id": "dde86d1b-e3b5-45e0-bebe-4bc68d6eafe2",
   "metadata": {},
   "outputs": [],
   "source": []
  },
  {
   "cell_type": "code",
   "execution_count": null,
   "id": "f5a7d760-e8e6-4c41-9b1b-f529e801adc1",
   "metadata": {},
   "outputs": [],
   "source": []
  },
  {
   "cell_type": "code",
   "execution_count": null,
   "id": "7f97cc2a-0b10-4f23-a774-de8e4246065f",
   "metadata": {},
   "outputs": [],
   "source": []
  },
  {
   "cell_type": "code",
   "execution_count": null,
   "id": "1fced070-9895-45b3-a151-3b160a6c78ab",
   "metadata": {},
   "outputs": [],
   "source": []
  },
  {
   "cell_type": "code",
   "execution_count": null,
   "id": "cd7db204-6aa8-47f3-a11b-dc0ff7de741f",
   "metadata": {},
   "outputs": [],
   "source": []
  },
  {
   "cell_type": "code",
   "execution_count": null,
   "id": "45839d82-4128-4fbb-82b3-5615532c1350",
   "metadata": {},
   "outputs": [],
   "source": []
  },
  {
   "cell_type": "code",
   "execution_count": null,
   "id": "b4d95dc8-895b-4dd5-9d3d-b4240c682eb1",
   "metadata": {},
   "outputs": [],
   "source": []
  },
  {
   "cell_type": "code",
   "execution_count": null,
   "id": "3d07cde0-5958-45ab-a51a-dd1b44704221",
   "metadata": {},
   "outputs": [],
   "source": []
  },
  {
   "cell_type": "code",
   "execution_count": null,
   "id": "0ec01259-1674-462c-a91b-e19c7ab9ee15",
   "metadata": {},
   "outputs": [],
   "source": []
  },
  {
   "cell_type": "code",
   "execution_count": null,
   "id": "9a4165b9-02ae-46a7-9a50-8eedb536039b",
   "metadata": {},
   "outputs": [],
   "source": []
  },
  {
   "cell_type": "code",
   "execution_count": null,
   "id": "a4096a76-3e5e-497c-957b-e648a24b2061",
   "metadata": {},
   "outputs": [],
   "source": []
  },
  {
   "cell_type": "code",
   "execution_count": null,
   "id": "0002e2ab-3365-4d50-9500-c6ce4f08692e",
   "metadata": {},
   "outputs": [],
   "source": []
  },
  {
   "cell_type": "code",
   "execution_count": null,
   "id": "95a7a0f5-fc86-4013-8122-2f2465d160fb",
   "metadata": {},
   "outputs": [],
   "source": []
  },
  {
   "cell_type": "code",
   "execution_count": null,
   "id": "15a55c6f-b135-4a39-804e-abecaaaa62ca",
   "metadata": {},
   "outputs": [],
   "source": []
  },
  {
   "cell_type": "code",
   "execution_count": null,
   "id": "bfc381f1-ed06-40c2-8998-728c6836fe8f",
   "metadata": {},
   "outputs": [],
   "source": []
  },
  {
   "cell_type": "code",
   "execution_count": null,
   "id": "d163207f-add9-4fa1-a94f-da425d670564",
   "metadata": {},
   "outputs": [],
   "source": []
  },
  {
   "cell_type": "code",
   "execution_count": null,
   "id": "05b10ca6-cd6f-4544-897e-9dae10fbc35c",
   "metadata": {},
   "outputs": [],
   "source": []
  },
  {
   "cell_type": "code",
   "execution_count": null,
   "id": "96b06947-c4f1-4798-8367-65b15c0392f7",
   "metadata": {},
   "outputs": [],
   "source": []
  }
 ],
 "metadata": {
  "kernelspec": {
   "display_name": "Python 3 (ipykernel)",
   "language": "python",
   "name": "python3"
  },
  "language_info": {
   "codemirror_mode": {
    "name": "ipython",
    "version": 3
   },
   "file_extension": ".py",
   "mimetype": "text/x-python",
   "name": "python",
   "nbconvert_exporter": "python",
   "pygments_lexer": "ipython3",
   "version": "3.13.5"
  }
 },
 "nbformat": 4,
 "nbformat_minor": 5
}
